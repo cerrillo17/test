{
 "cells": [
  {
   "cell_type": "markdown",
   "metadata": {},
   "source": [
    "# Estructuras de repetición"
   ]
  },
  {
   "cell_type": "markdown",
   "metadata": {},
   "source": [
    "<p style=\"text-align: justify\">Las estructuras de repetición, comúnmente conocidas como <b>bucles</b>, son un recurso que permiten al programador indicar que sentencias se van a repetir mientras se cumple una determinada condición. La siguiente imagen representa un ejemplo de bucle:</p>"
   ]
  },
  {
   "cell_type": "markdown",
   "metadata": {},
   "source": [
    "<img src=\"https://media.giphy.com/media/12xNQZsQd2jw2s/giphy.gif\"></img>"
   ]
  },
  {
   "cell_type": "markdown",
   "metadata": {},
   "source": [
    "<p style=\"text-align: justify\">Como podemos observar en el gif anterior, el Jesucristo bailarín se encuentra sumido en un bucle, donde repite siempre un conjunto de acciones. En Python encontramos dos sentencias para implementar estructuras de repetición: <b>for</b> y <b>while</b>.</p>"
   ]
  },
  {
   "cell_type": "markdown",
   "metadata": {},
   "source": [
    "## Bucle For"
   ]
  },
  {
   "cell_type": "markdown",
   "metadata": {},
   "source": [
    "<p style=\"text-align:justify\">La sentencia <b>for</b> permite la ejecución de un código mientras la condición que evalúa sea verdadera. Generalmente, usamos esta sentencia para realizar bucles en la que la condición se ejecutará un número determinado de veces. A continuación mostraremos una imagen que representa el flujo de un programa que utiliza un bucle for.</p><br/>"
   ]
  },
  {
   "cell_type": "markdown",
   "metadata": {},
   "source": [
    "<img src=\"https://www.javadesdecero.es/wp-content/uploads/2017/12/Bucle-for-Java.png\"></img>"
   ]
  },
  {
   "cell_type": "markdown",
   "metadata": {},
   "source": [
    "<p style=\"text-align:justify\">Como podemos observar en la imagen anterior, una vez que la condición sea evaluada como falsa, el bloque de código del bucle no se ejecutará. Esto implica que puede que un bucle no se ejecuté nunca si su condición desde el primer momento es evaluada como falsa. A continuación especificaremos la sintaxis en Python para la sentencia for: </p>"
   ]
  },
  {
   "cell_type": "markdown",
   "metadata": {},
   "source": [
    "    for variable in elemento_iterable:\n",
    "        cuerpo_bucle"
   ]
  },
  {
   "cell_type": "markdown",
   "metadata": {},
   "source": [
    "<p>Donde:</p>\n",
    "<ul>\n",
    "    <li><b>for</b> es palabra reservada que indica que comienza la declaración del bucle</li>\n",
    "    <li><b>variable</b> es una variable cuyo valor será actualizado en cada iteración del bucle</li>\n",
    "    <li><b>in</b> es una palabra reservada que indica que en cada iteración variable actualizará su valor a un elemento del elemento_iterable</li>\n",
    "    <li><b>elemento_iterable</b> es cualquier tipo de dato que puede ser susceptible de ser recorrido como listas, cadenas de texto o </li>\n",
    "    <li><b>cuerpo_bucle</b> es un conjunto de instrucciones a repetir.</li>\n",
    "</ul>\n",
    "\n",
    "    "
   ]
  },
  {
   "cell_type": "markdown",
   "metadata": {},
   "source": [
    "<p style=\"text-align:justify\"><b>Ejemplo 1:</b> Bucle for que recorre los elementos de una lista de números.</p>"
   ]
  },
  {
   "cell_type": "code",
   "execution_count": 1,
   "metadata": {},
   "outputs": [
    {
     "name": "stdout",
     "output_type": "stream",
     "text": [
      "1\n",
      "2\n",
      "3\n",
      "4\n",
      "5\n"
     ]
    }
   ],
   "source": [
    "numbers = [1, 2, 3, 4, 5]\n",
    "for x in numbers:\n",
    "  print(x)"
   ]
  },
  {
   "cell_type": "markdown",
   "metadata": {},
   "source": [
    "<p style=\"text-align:justify\"><b>Ejemplo 2:</b> Bucle for que recorre los elementos de una lista de números creada mendiante la función range. Recuerde que la función range define una lista de números que empieza en 0 y termina en n-1</p>"
   ]
  },
  {
   "cell_type": "code",
   "execution_count": 2,
   "metadata": {},
   "outputs": [
    {
     "name": "stdout",
     "output_type": "stream",
     "text": [
      "0\n",
      "1\n",
      "2\n",
      "3\n",
      "4\n",
      "5\n",
      "6\n",
      "7\n",
      "8\n",
      "9\n"
     ]
    }
   ],
   "source": [
    "for x in range(10):\n",
    "  print(x)"
   ]
  },
  {
   "cell_type": "markdown",
   "metadata": {},
   "source": [
    "<p>Además de recorrer rangos numéricos, es posible recorrer los elementos de una lista utilizando la sentencia for.</p>"
   ]
  },
  {
   "cell_type": "markdown",
   "metadata": {},
   "source": [
    "<p style=\"text-align:justify\"><b>Ejemplo 3:</b> Bucle for que recorre los elementos de una lista de cadenas de caracteres.</p>"
   ]
  },
  {
   "cell_type": "code",
   "execution_count": 3,
   "metadata": {},
   "outputs": [
    {
     "name": "stdout",
     "output_type": "stream",
     "text": [
      "manzana\n",
      "melón\n",
      "plátano\n",
      "sandía\n",
      "uvas\n"
     ]
    }
   ],
   "source": [
    "fruits = [\"manzana\", \"melón\", \"plátano\", \"sandía\", \"uvas\"]\n",
    "for x in fruits:\n",
    "  print(x)"
   ]
  },
  {
   "cell_type": "markdown",
   "metadata": {},
   "source": [
    "<p style=\"text-align:justify\">Como podemos observar en el ejemplo anterior, la variable X ha ido tomando los diferentes valores de cada uno de los elementos de la lista. <b>El bucle for acaba cuando la variable X toma el último valor de la lista.</b> Pero esto no es lo único que podemos hacer con los bucles for, ya que dentro de un bucle for puede haber mas de una instrucción.</p>"
   ]
  },
  {
   "cell_type": "markdown",
   "metadata": {},
   "source": [
    "<p style=\"text-align:justify\"><b>Ejemplo 4:</b> Bucle for que recorre los elementos de una lista de palabras e imprime aquellas que empiezan por la letra 'm'.</p>"
   ]
  },
  {
   "cell_type": "code",
   "execution_count": 4,
   "metadata": {},
   "outputs": [
    {
     "name": "stdout",
     "output_type": "stream",
     "text": [
      "manzana\n",
      "melón\n",
      "melocotón\n",
      "mango\n"
     ]
    }
   ],
   "source": [
    "fruits = [\"manzana\", \"melón\", \"plátano\", \"sandía\", \"melocotón\", \"uvas\", \"mango\", \"fresas\"]\n",
    "for x in fruits:\n",
    "    if x[0] == 'm' or x[0] == 'M':\n",
    "        print(x) \n"
   ]
  },
  {
   "cell_type": "markdown",
   "metadata": {},
   "source": [
    "<p style=\"text-align:justify\"><b>Ejemplo 5:</b> Bucle for que recorre los elementos de una lista de palabras e imprime aquellas que empiezan por la letra 'm', En otro caso imprimiremos por pantalla el nombre de la fruta junto con la cadena de texto \"no empieza por la letra m\" </p>"
   ]
  },
  {
   "cell_type": "code",
   "execution_count": 5,
   "metadata": {},
   "outputs": [
    {
     "name": "stdout",
     "output_type": "stream",
     "text": [
      "manzana\n",
      "melón\n",
      "plátano no empieza por la letra m\n",
      "sandía no empieza por la letra m\n",
      "melocotón\n",
      "uvas no empieza por la letra m\n",
      "mango\n",
      "fresas no empieza por la letra m\n"
     ]
    }
   ],
   "source": [
    "fruits = [\"manzana\", \"melón\", \"plátano\", \"sandía\", \"melocotón\", \"uvas\", \"mango\", \"fresas\"]\n",
    "for x in fruits:\n",
    "    if x[0] == 'm' or x[0] == 'M':\n",
    "        print(x)\n",
    "    else:\n",
    "        print(x + \" no empieza por la letra m\") \n"
   ]
  },
  {
   "cell_type": "markdown",
   "metadata": {},
   "source": [
    "<p style=\"text-align:justify\">Vamos a practicar un poco lo aprendido hasta ahora con los siguientes ejercicios.</p>"
   ]
  },
  {
   "cell_type": "markdown",
   "metadata": {},
   "source": [
    "<p style=\"text-align:justify\"><span style=\"color: #4f55c7\"><u><b>EJERCICIO 1</b></u></span>: Escribe un bucle for que permita imprimir los números impares del 1 al 20.</p>\n"
   ]
  },
  {
   "cell_type": "code",
   "execution_count": null,
   "metadata": {},
   "outputs": [],
   "source": [
    "\n"
   ]
  },
  {
   "cell_type": "markdown",
   "metadata": {},
   "source": [
    "<p style=\"text-align:justify\"><span style=\"color: #4f55c7\"><u><b>EJERCICIO 2</b></u></span>: Escribe un bucle for que permita imprimir los múltiplos de 3 del 1 al 30.</p>\n",
    "\n",
    "\n"
   ]
  },
  {
   "cell_type": "code",
   "execution_count": null,
   "metadata": {},
   "outputs": [],
   "source": [
    "\n"
   ]
  },
  {
   "cell_type": "markdown",
   "metadata": {},
   "source": [
    "<p style=\"text-align:justify\"><span style=\"color: #4f55c7\"><u><b>EJERCICIO 3</b></u></span>: Declara una lista con tus cinco aficiones preferidas. Una vez realizado, utiliza un bucle for que permite recorrer cada uno de los elementos de la lista.</p>\n"
   ]
  },
  {
   "cell_type": "code",
   "execution_count": null,
   "metadata": {},
   "outputs": [],
   "source": [
    "\n"
   ]
  },
  {
   "cell_type": "markdown",
   "metadata": {},
   "source": [
    "<p style=\"text-align:justify\"><span style=\"color: #4f55c7\"><u><b>EJERCICIO 4</b></u></span>: Escribe un bucle for que imprima todos aquellos número del 0 al 40 inclusive que sean múltiplos de 3 o de 4. Además, junto al número deberá indicarse si es múltiplo de 3, múltiplo de 4 o múltiplo de ambos.</p>\n"
   ]
  },
  {
   "cell_type": "code",
   "execution_count": null,
   "metadata": {},
   "outputs": [],
   "source": [
    "\n"
   ]
  },
  {
   "cell_type": "markdown",
   "metadata": {},
   "source": [
    "<p style=\"text-align:justify\">Hasta ahora hemos visto que el conjunto de instrucciones dentro del bucle puede tener cualquier cantidad de líneas, pero ¿Podríamos tener un bucle for dentro de otro bucle for? La respuesta es afirmativa y veremos que es necesaria cuando tenemos que realizar repeticiones en cada una de las iteraciones del bucle. A continuación se presentan ejemplo de su uso.</p>"
   ]
  },
  {
   "cell_type": "markdown",
   "metadata": {},
   "source": [
    "<p style=\"text-align:justify\"><b>Ejemplo 6:</b> Imprimir la tabla de multiplicar del número 2 y 3. </p>"
   ]
  },
  {
   "cell_type": "code",
   "execution_count": 12,
   "metadata": {},
   "outputs": [
    {
     "name": "stdout",
     "output_type": "stream",
     "text": [
      "La tabla de multiplicar del número 2 \n",
      "\n",
      "2  por  0  es igual a 0\n",
      "2  por  1  es igual a 2\n",
      "2  por  2  es igual a 4\n",
      "2  por  3  es igual a 6\n",
      "2  por  4  es igual a 8\n",
      "2  por  5  es igual a 10\n",
      "2  por  6  es igual a 12\n",
      "2  por  7  es igual a 14\n",
      "2  por  8  es igual a 16\n",
      "2  por  9  es igual a 18\n",
      "2  por  10  es igual a 20\n",
      "\n",
      "La tabla de multiplicar del número 3 \n",
      "\n",
      "3  por  0  es igual a 0\n",
      "3  por  1  es igual a 3\n",
      "3  por  2  es igual a 6\n",
      "3  por  3  es igual a 9\n",
      "3  por  4  es igual a 12\n",
      "3  por  5  es igual a 15\n",
      "3  por  6  es igual a 18\n",
      "3  por  7  es igual a 21\n",
      "3  por  8  es igual a 24\n",
      "3  por  9  es igual a 27\n",
      "3  por  10  es igual a 30\n",
      "\n"
     ]
    }
   ],
   "source": [
    "for x in range(2,4):\n",
    "    print(\"La tabla de multiplicar del número\", x, \"\\n\")\n",
    "    for y in range(11):\n",
    "        print(x, \" por \", y, \" es igual a\", x*y)\n",
    "    print(\"\")"
   ]
  },
  {
   "cell_type": "markdown",
   "metadata": {},
   "source": [
    "## Bucle While"
   ]
  },
  {
   "cell_type": "markdown",
   "metadata": {},
   "source": [
    "<p style=\"text-align:justify\">La sentencia <b>While</b> permite la ejecución de un código mientras la condición sea verdadera. Generalmente, usamos esta sentencia para realizar bucles cuando no tenemos la necesidad de tener una variable que tenga que modificar su valor en cada iteración del bucle. A continuación mostraremos una imagen que representa el flujo de un programa que utiliza un bucle while.</p>"
   ]
  },
  {
   "cell_type": "markdown",
   "metadata": {},
   "source": [
    "<img src=\"https://sites.google.com/site/javascriptpracticas/_/rsrc/1472866745954/5---uso-del-bucle-while/while.gif\"></img>"
   ]
  },
  {
   "cell_type": "markdown",
   "metadata": {},
   "source": [
    "<p style=\"text-align:justify\">Cabe destacar, que si la condición de inicio se evaluase como falsa, el programa no entraría en el bloque de código del bucle. De este modo no se ejecutaría ninguna instrucción del bucle.</p>"
   ]
  },
  {
   "cell_type": "code",
   "execution_count": null,
   "metadata": {},
   "outputs": [],
   "source": []
  },
  {
   "cell_type": "code",
   "execution_count": 7,
   "metadata": {},
   "outputs": [
    {
     "name": "stdout",
     "output_type": "stream",
     "text": [
      "0\n",
      "1\n",
      "2\n",
      "3\n",
      "4\n",
      "5\n",
      "6\n",
      "7\n",
      "8\n",
      "9\n"
     ]
    }
   ],
   "source": [
    "x = 0\n",
    "while( x < 10):\n",
    "    print(x)\n",
    "    x += 1"
   ]
  },
  {
   "cell_type": "code",
   "execution_count": null,
   "metadata": {},
   "outputs": [],
   "source": []
  }
 ],
 "metadata": {
  "kernelspec": {
   "display_name": "Python 3",
   "language": "python",
   "name": "python3"
  },
  "language_info": {
   "codemirror_mode": {
    "name": "ipython",
    "version": 3
   },
   "file_extension": ".py",
   "mimetype": "text/x-python",
   "name": "python",
   "nbconvert_exporter": "python",
   "pygments_lexer": "ipython3",
   "version": "3.6.7"
  }
 },
 "nbformat": 4,
 "nbformat_minor": 2
}
