{
 "cells": [
  {
   "cell_type": "markdown",
   "metadata": {},
   "source": [
    "## Estructuras de repetición"
   ]
  },
  {
   "cell_type": "markdown",
   "metadata": {},
   "source": [
    "<p style=\"text-align: justify\">Las estructuras de repetición, comúnmente conocidas como <b>bucles</b>, son un recurso que permiten al programador indicar que sentencias se van a repetir mientras se cumple una determinada condición. La siguiente imagen representa un ejemplo de bucle:</p>"
   ]
  },
  {
   "cell_type": "markdown",
   "metadata": {},
   "source": [
    "<img src=\"https://media.giphy.com/media/12xNQZsQd2jw2s/giphy.gif\"></img>"
   ]
  },
  {
   "cell_type": "markdown",
   "metadata": {},
   "source": [
    "<p style=\"text-align: justify\">Como podemos observaren el gif anterior, el Jesucristo bailarín se encuentra sumido en un bucle, donde repite siempre un conjunto de acciones.</p>"
   ]
  },
  {
   "cell_type": "markdown",
   "metadata": {},
   "source": [
    "<p style=\"text-align: justify\">En Python encontramos dos sentencias para implementar una estructuras de repetición: <b>for</b> y <b>while</b>.</p>"
   ]
  },
  {
   "cell_type": "markdown",
   "metadata": {},
   "source": [
    "### Bucle For"
   ]
  },
  {
   "cell_type": "markdown",
   "metadata": {},
   "source": [
    "<p style=\"text-align:justify\">La sentencia <b>for</b> permite la ejecución de un código mientras la condición que evalúa sea verdadera. Generalmente, usamos esta sentencia para realizar bucles en la que la condición se ejecutará un número determinado de veces. A continuación mostraremos una imagen que representa el flujo de un programa que utiliza un bucle for.</p><br/>"
   ]
  },
  {
   "cell_type": "markdown",
   "metadata": {},
   "source": [
    "<img src=\"https://www.javadesdecero.es/wp-content/uploads/2017/12/Bucle-for-Java.png\"></img>"
   ]
  },
  {
   "cell_type": "markdown",
   "metadata": {},
   "source": [
    "<p style=\"text-align:justify\">Como podemos observar en la imagen anterior, una vez que la condición sea evaluada como falsa, el bloque de código del bucle no se ejecutará. Esto implica que puede que un bucle no se ejecuté nunca si su condición desde el primer momento es evaluada como falsa. A continuación especificaremos la sintaxis en Python para la sentencia for: </p>"
   ]
  },
  {
   "cell_type": "markdown",
   "metadata": {},
   "source": [
    "    for variable in elemento_iterable:\n",
    "        cuerpo del bucle"
   ]
  },
  {
   "cell_type": "markdown",
   "metadata": {},
   "source": [
    "<p>Donde:</p>\n",
    "<ul>\n",
    "    <li><b>for</b> es palabra reservada que indica que comienza la declaración del bucle</li>\n",
    "    <li><b>variable</b> es una variable cuyo valor será actualizado en cada iteración del bucle</li>\n",
    "    <li><b>in</b> es una palabra reservada que indica dentro de</li>\n",
    "    <li><b>elemento_iterable</b> es cualquier tipo de dato que puede ser susceptible de ser recorrido como listas, cadenas de texto o </li>\n",
    "    <li><b>cuerpo del bucle</b> es un conjunto de instrucciones a repetir.</li>\n",
    "</ul>\n",
    "\n",
    "    "
   ]
  },
  {
   "cell_type": "code",
   "execution_count": 4,
   "metadata": {},
   "outputs": [
    {
     "name": "stdout",
     "output_type": "stream",
     "text": [
      "1\n",
      "2\n",
      "3\n",
      "4\n",
      "5\n"
     ]
    }
   ],
   "source": [
    "numbers = [1, 2, 3, 4, 5]\n",
    "for x in numbers:\n",
    "  print(x)"
   ]
  },
  {
   "cell_type": "code",
   "execution_count": 3,
   "metadata": {},
   "outputs": [
    {
     "name": "stdout",
     "output_type": "stream",
     "text": [
      "5\n",
      "4\n",
      "3\n",
      "2\n",
      "1\n"
     ]
    }
   ],
   "source": [
    "numbers = [5, 4, 3, 2, 1]\n",
    "for x in numbers:\n",
    "  print(x)"
   ]
  },
  {
   "cell_type": "code",
   "execution_count": 5,
   "metadata": {},
   "outputs": [
    {
     "name": "stdout",
     "output_type": "stream",
     "text": [
      "manzana\n",
      "melón\n",
      "plátano\n",
      "sandía\n",
      "uvas\n"
     ]
    }
   ],
   "source": [
    "fruits = [\"manzana\", \"melón\", \"plátano\", \"sandía\", \"uvas\"]\n",
    "for x in fruits:\n",
    "  print(x)"
   ]
  },
  {
   "cell_type": "code",
   "execution_count": 1,
   "metadata": {},
   "outputs": [
    {
     "name": "stdout",
     "output_type": "stream",
     "text": [
      "0\n",
      "1\n",
      "2\n",
      "3\n",
      "4\n",
      "5\n"
     ]
    }
   ],
   "source": [
    "for x in range(6):\n",
    "  print(x) "
   ]
  },
  {
   "cell_type": "code",
   "execution_count": 2,
   "metadata": {},
   "outputs": [
    {
     "name": "stdout",
     "output_type": "stream",
     "text": [
      "2\n",
      "3\n",
      "4\n",
      "5\n"
     ]
    }
   ],
   "source": [
    "for x in range(2,6):\n",
    "  print(x) "
   ]
  },
  {
   "cell_type": "code",
   "execution_count": 3,
   "metadata": {},
   "outputs": [
    {
     "name": "stdout",
     "output_type": "stream",
     "text": [
      "2\n",
      "4\n",
      "6\n",
      "8\n",
      "10\n"
     ]
    }
   ],
   "source": [
    "for x in range(2,12,2):\n",
    "  print(x)"
   ]
  },
  {
   "cell_type": "markdown",
   "metadata": {},
   "source": [
    "<p>Además de recorrer rangos numéricos, es posible recorrer los elementos de una lista utilizando la sentencia for.</p>"
   ]
  },
  {
   "cell_type": "markdown",
   "metadata": {},
   "source": [
    "<p style=\"text-align:justify\">Como podemos observar en el ejemplo anterior, la variable X ha ido tomando los diferentes valores de cada uno de los elementos de la lista. <b>El bucle for acaba cuando la variable X toma el último valor de la lista.</b></p>"
   ]
  },
  {
   "cell_type": "markdown",
   "metadata": {},
   "source": [
    "### Bucle While"
   ]
  },
  {
   "cell_type": "markdown",
   "metadata": {},
   "source": [
    "<p style=\"text-align:justify\">La sentencia <b>While</b> permite la ejecución de un código mientras la condición sea verdadera. Generalmente, usamos esta sentencia para realizar bucles en los que la condición no suele ser un número determinado de veces. A continuación mostraremos una imagen que representa el flujo de un programa que utiliza un bucle while.</p>"
   ]
  },
  {
   "cell_type": "markdown",
   "metadata": {},
   "source": [
    "<img src=\"https://sites.google.com/site/javascriptpracticas/_/rsrc/1472866745954/5---uso-del-bucle-while/while.gif\"></img>"
   ]
  },
  {
   "cell_type": "markdown",
   "metadata": {},
   "source": [
    "<p style=\"text-align:justify\">Cabe destacar, que si la condición de inicio se evaluase como falsa, el programa no entraría en el bloque de código del bucle. De este modo no se ejecutaría ninguna instrucción del bucle.</p>"
   ]
  },
  {
   "cell_type": "code",
   "execution_count": null,
   "metadata": {},
   "outputs": [],
   "source": []
  },
  {
   "cell_type": "code",
   "execution_count": null,
   "metadata": {},
   "outputs": [],
   "source": []
  },
  {
   "cell_type": "code",
   "execution_count": null,
   "metadata": {},
   "outputs": [],
   "source": []
  }
 ],
 "metadata": {
  "kernelspec": {
   "display_name": "Python 3",
   "language": "python",
   "name": "python3"
  },
  "language_info": {
   "codemirror_mode": {
    "name": "ipython",
    "version": 3
   },
   "file_extension": ".py",
   "mimetype": "text/x-python",
   "name": "python",
   "nbconvert_exporter": "python",
   "pygments_lexer": "ipython3",
   "version": "3.6.7"
  }
 },
 "nbformat": 4,
 "nbformat_minor": 2
}
